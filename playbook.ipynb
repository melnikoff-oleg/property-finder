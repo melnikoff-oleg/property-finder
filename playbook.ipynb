{
 "cells": [
  {
   "cell_type": "code",
   "execution_count": 5,
   "metadata": {},
   "outputs": [
    {
     "name": "stdout",
     "output_type": "stream",
     "text": [
      "Found match: 28 properties\n",
      "Text surrounding the match: bour (The Lagoons)</h1><div class=\"styles_container__KcjEg\"><span aria-label=\"Search results count\">28 properties<!-- --> </span></div><div class=\"view_desktop_content__actions__DZ1n6\"><a data-testid=\"map-search-t\n"
     ]
    }
   ],
   "source": [
    "import requests\n",
    "from bs4 import BeautifulSoup\n",
    "import re\n",
    "\n",
    "# URL of the webpage\n",
    "url = 'https://www.propertyfinder.ae/en/search?l=9831&c=2&bdr%5B%5D=2&fu=0&rp=y&ob=nd'\n",
    "\n",
    "# Set headers to mimic a real browser request\n",
    "headers = {\n",
    "    'User-Agent': 'Mozilla/5.0 (Windows NT 10.0; Win64; x64) AppleWebKit/537.36 (KHTML, like Gecko) Chrome/58.0.3029.110 Safari/537.36'\n",
    "}\n",
    "\n",
    "# Fetch the webpage\n",
    "response = requests.get(url, headers=headers)\n",
    "\n",
    "# Check if the page was successfully fetched\n",
    "if response.status_code == 200:\n",
    "    page_content = response.text\n",
    "\n",
    "    # Search for the substring that matches the \"<number> properties\" pattern\n",
    "    match = re.search(r'\\d+ properties', page_content)\n",
    "\n",
    "    if match:\n",
    "        # Get the start and end index of the match\n",
    "        start_idx = max(0, match.start() - 100)  # Avoid going below 0 index\n",
    "        end_idx = min(len(page_content), match.end() + 100)  # Avoid exceeding page length\n",
    "        \n",
    "        # Extract 100 symbols before and after the match\n",
    "        surrounding_text = page_content[start_idx:end_idx]\n",
    "        print(f\"Found match: {match.group()}\")\n",
    "        print(f\"Text surrounding the match: {surrounding_text}\")\n",
    "    else:\n",
    "        print(\"No match found.\")\n",
    "else:\n",
    "    print(f\"Failed to fetch the webpage. Status code: {response.status_code}\")\n"
   ]
  },
  {
   "cell_type": "code",
   "execution_count": 6,
   "metadata": {},
   "outputs": [
    {
     "name": "stdout",
     "output_type": "stream",
     "text": [
      "Current number of properties: 28\n",
      "Current number of properties: 28\n",
      "Current number of properties: 28\n"
     ]
    },
    {
     "ename": "KeyboardInterrupt",
     "evalue": "",
     "output_type": "error",
     "traceback": [
      "\u001b[0;31m---------------------------------------------------------------------------\u001b[0m",
      "\u001b[0;31mKeyboardInterrupt\u001b[0m                         Traceback (most recent call last)",
      "Cell \u001b[0;32mIn[6], line 47\u001b[0m\n\u001b[1;32m     44\u001b[0m     previous_number \u001b[38;5;241m=\u001b[39m current_number\n\u001b[1;32m     46\u001b[0m \u001b[38;5;66;03m# Wait for 20 seconds before fetching the number again\u001b[39;00m\n\u001b[0;32m---> 47\u001b[0m \u001b[43mtime\u001b[49m\u001b[38;5;241;43m.\u001b[39;49m\u001b[43msleep\u001b[49m\u001b[43m(\u001b[49m\u001b[38;5;241;43m20\u001b[39;49m\u001b[43m)\u001b[49m\n",
      "\u001b[0;31mKeyboardInterrupt\u001b[0m: "
     ]
    }
   ],
   "source": [
    "import requests\n",
    "import re\n",
    "import time\n",
    "\n",
    "# URL of the webpage\n",
    "url = 'https://www.propertyfinder.ae/en/search?l=9831&c=2&bdr%5B%5D=2&fu=0&rp=y&ob=nd'\n",
    "\n",
    "# Set headers to mimic a real browser request\n",
    "headers = {\n",
    "    'User-Agent': 'Mozilla/5.0 (Windows NT 10.0; Win64; x64) AppleWebKit/537.36 (KHTML, like Gecko) Chrome/58.0.3029.110 Safari/537.36'\n",
    "}\n",
    "\n",
    "previous_number = None  # To store the previous number of properties\n",
    "\n",
    "def fetch_properties_count():\n",
    "    \"\"\"Fetch the number of properties from the webpage.\"\"\"\n",
    "    response = requests.get(url, headers=headers)\n",
    "    \n",
    "    if response.status_code == 200:\n",
    "        page_content = response.text\n",
    "\n",
    "        # Search for the substring that matches the \"<number> properties\" pattern\n",
    "        match = re.search(r'(\\d+) properties', page_content)\n",
    "\n",
    "        if match:\n",
    "            # Extract the number of properties\n",
    "            return int(match.group(1))\n",
    "        else:\n",
    "            print(\"No match found.\")\n",
    "            return None\n",
    "    else:\n",
    "        print(f\"Failed to fetch the webpage. Status code: {response.status_code}\")\n",
    "        return None\n",
    "\n",
    "while True:\n",
    "    current_number = fetch_properties_count()\n",
    "    \n",
    "    if current_number is not None:\n",
    "        print(f\"Current number of properties: {current_number}\")\n",
    "\n",
    "        if previous_number is not None and current_number != previous_number:\n",
    "            print(\"ALERT: The number of properties has changed!\")\n",
    "\n",
    "        previous_number = current_number\n",
    "    \n",
    "    # Wait for 20 seconds before fetching the number again\n",
    "    time.sleep(20)\n"
   ]
  },
  {
   "cell_type": "code",
   "execution_count": null,
   "metadata": {},
   "outputs": [],
   "source": []
  }
 ],
 "metadata": {
  "kernelspec": {
   "display_name": ".venv",
   "language": "python",
   "name": "python3"
  },
  "language_info": {
   "codemirror_mode": {
    "name": "ipython",
    "version": 3
   },
   "file_extension": ".py",
   "mimetype": "text/x-python",
   "name": "python",
   "nbconvert_exporter": "python",
   "pygments_lexer": "ipython3",
   "version": "3.12.7"
  }
 },
 "nbformat": 4,
 "nbformat_minor": 2
}
